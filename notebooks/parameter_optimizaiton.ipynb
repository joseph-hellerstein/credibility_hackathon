{
  "cells": [
    {
      "cell_type": "markdown",
      "metadata": {
        "collapsed": false,
        "jupyter": {
          "outputs_hidden": false
        },
        "id": "lcZaVClAKVzw"
      },
      "source": [
        "# RoadRunner in pyPESTO\n",
        "\n",
        "**After going through this notebook, you will be able to...**\n",
        "\n",
        "* ... create a pyPESTO problem using [RoadRunner](https://www.libroadrunner.org) as a simulator directly from a PEtab problem.\n",
        "* ... perform a parameter estimation using pyPESTO with RoadRunner as a simulator, setting advanced simulator features."
      ]
    },
    {
      "cell_type": "code",
      "execution_count": 1,
      "metadata": {
        "jupyter": {
          "outputs_hidden": false
        },
        "id": "5P7FVLNeKVzy",
        "outputId": "392a2aac-6069-48eb-9f68-e47213863a5b",
        "colab": {
          "base_uri": "https://localhost:8080/"
        }
      },
      "outputs": [
        {
          "output_type": "stream",
          "name": "stdout",
          "text": [
            "  Installing build dependencies ... \u001b[?25l\u001b[?25hdone\n",
            "  Getting requirements to build wheel ... \u001b[?25l\u001b[?25hdone\n",
            "  Preparing metadata (pyproject.toml) ... \u001b[?25l\u001b[?25hdone\n",
            "  \u001b[1;31merror\u001b[0m: \u001b[1msubprocess-exited-with-error\u001b[0m\n",
            "  \n",
            "  \u001b[31m×\u001b[0m \u001b[32mBuilding wheel for amici \u001b[0m\u001b[1;32m(\u001b[0m\u001b[32mpyproject.toml\u001b[0m\u001b[1;32m)\u001b[0m did not run successfully.\n",
            "  \u001b[31m│\u001b[0m exit code: \u001b[1;36m1\u001b[0m\n",
            "  \u001b[31m╰─>\u001b[0m See above for output.\n",
            "  \n",
            "  \u001b[1;35mnote\u001b[0m: This error originates from a subprocess, and is likely not a problem with pip.\n",
            "  Building wheel for amici (pyproject.toml) ... \u001b[?25l\u001b[?25herror\n",
            "\u001b[31m  ERROR: Failed building wheel for amici\u001b[0m\u001b[31m\n",
            "\u001b[0m\u001b[31mERROR: Could not build wheels for amici, which is required to install pyproject.toml-based projects\u001b[0m\u001b[31m\n",
            "\u001b[0m"
          ]
        }
      ],
      "source": [
        "# install pyPESTO with roadrunner support\n",
        "!pip install amici --quiet\n",
        "!pip install pypesto[roadrunner,petab] --quiet"
      ]
    },
    {
      "cell_type": "code",
      "execution_count": 2,
      "metadata": {
        "jupyter": {
          "outputs_hidden": false
        },
        "id": "Ek5Ian2SKVzy",
        "outputId": "56fe96d0-fe9f-41c4-f2ab-7bdef2a28c60",
        "colab": {
          "base_uri": "https://localhost:8080/",
          "height": 385
        }
      },
      "outputs": [
        {
          "output_type": "error",
          "ename": "ModuleNotFoundError",
          "evalue": "No module named 'amici'",
          "traceback": [
            "\u001b[0;31m---------------------------------------------------------------------------\u001b[0m",
            "\u001b[0;31mModuleNotFoundError\u001b[0m                       Traceback (most recent call last)",
            "\u001b[0;32m<ipython-input-2-01157f691d83>\u001b[0m in \u001b[0;36m<cell line: 2>\u001b[0;34m()\u001b[0m\n\u001b[1;32m      1\u001b[0m \u001b[0;31m# import\u001b[0m\u001b[0;34m\u001b[0m\u001b[0;34m\u001b[0m\u001b[0m\n\u001b[0;32m----> 2\u001b[0;31m \u001b[0;32mimport\u001b[0m \u001b[0mamici\u001b[0m\u001b[0;34m\u001b[0m\u001b[0;34m\u001b[0m\u001b[0m\n\u001b[0m\u001b[1;32m      3\u001b[0m \u001b[0;32mimport\u001b[0m \u001b[0mmatplotlib\u001b[0m \u001b[0;32mas\u001b[0m \u001b[0mmpl\u001b[0m\u001b[0;34m\u001b[0m\u001b[0;34m\u001b[0m\u001b[0m\n\u001b[1;32m      4\u001b[0m \u001b[0;32mimport\u001b[0m \u001b[0mnumpy\u001b[0m \u001b[0;32mas\u001b[0m \u001b[0mnp\u001b[0m\u001b[0;34m\u001b[0m\u001b[0;34m\u001b[0m\u001b[0m\n\u001b[1;32m      5\u001b[0m \u001b[0;32mimport\u001b[0m \u001b[0mpetab\u001b[0m\u001b[0;34m\u001b[0m\u001b[0;34m\u001b[0m\u001b[0m\n",
            "\u001b[0;31mModuleNotFoundError\u001b[0m: No module named 'amici'",
            "",
            "\u001b[0;31m---------------------------------------------------------------------------\u001b[0;32m\nNOTE: If your import is failing due to a missing package, you can\nmanually install dependencies using either !pip or !apt.\n\nTo view examples of installing some common dependencies, click the\n\"Open Examples\" button below.\n\u001b[0;31m---------------------------------------------------------------------------\u001b[0m\n"
          ],
          "errorDetails": {
            "actions": [
              {
                "action": "open_url",
                "actionText": "Open Examples",
                "url": "/notebooks/snippets/importing_libraries.ipynb"
              }
            ]
          }
        }
      ],
      "source": [
        "# import\n",
        "import amici\n",
        "import matplotlib as mpl\n",
        "import numpy as np\n",
        "import petab\n",
        "import pypesto.objective\n",
        "import pypesto.optimize as optimize\n",
        "import pypesto.objective.roadrunner as pypesto_rr\n",
        "import pypesto.sample as sample\n",
        "import pypesto.visualize as visualize\n",
        "import pypesto.profile as profile\n",
        "from IPython.display import Markdown, display\n",
        "from pprint import pprint\n",
        "\n",
        "mpl.rcParams[\"figure.dpi\"] = 100\n",
        "mpl.rcParams[\"font.size\"] = 18\n",
        "\n",
        "np.random.seed(1912)\n",
        "\n",
        "\n",
        "# name of the model that will also be the name of the python module\n",
        "model_name = \"boehm_JProteomeRes2014\"\n",
        "\n",
        "# output directory\n",
        "model_output_dir = \"tmp/\" + model_name"
      ]
    },
    {
      "cell_type": "markdown",
      "metadata": {
        "collapsed": false,
        "jupyter": {
          "outputs_hidden": false
        },
        "id": "ZOr8MWmCKVzz"
      },
      "source": [
        "## Creating pyPESTO problem from PEtab\n",
        "\n",
        "The [PEtab file format](https://petab.readthedocs.io/en/latest/documentation_data_format.html) stores all the necessary information to define a parameter estimation problem. This includes the model, the experimental data, the parameters to estimate, and the experimental conditions. Using the `pypesto_rr.PetabImporterRR` class, we can create a pyPESTO problem directly from a PEtab problem."
      ]
    },
    {
      "cell_type": "code",
      "execution_count": null,
      "metadata": {
        "jupyter": {
          "outputs_hidden": false
        },
        "id": "BCL-LJngKVzz"
      },
      "outputs": [],
      "source": [
        "petab_yaml = f\"./{model_name}/{model_name}.yaml\"\n",
        "\n",
        "petab_problem = petab.Problem.from_yaml(petab_yaml)\n",
        "importer = pypesto_rr.PetabImporterRR(petab_problem)\n",
        "problem = importer.create_problem()"
      ]
    },
    {
      "cell_type": "markdown",
      "metadata": {
        "collapsed": false,
        "jupyter": {
          "outputs_hidden": false
        },
        "id": "_ETh7Z7rKVzz"
      },
      "source": [
        "We now have a pyPESTO problem that we can use to perform parameter estimation. We can get some information on the RoadRunnerObjective and access the RoadRunner model."
      ]
    },
    {
      "cell_type": "code",
      "execution_count": null,
      "metadata": {
        "jupyter": {
          "outputs_hidden": false
        },
        "id": "aqLal6fmKVzz"
      },
      "outputs": [],
      "source": [
        "pprint(problem.objective.get_config())"
      ]
    },
    {
      "cell_type": "code",
      "execution_count": null,
      "metadata": {
        "jupyter": {
          "outputs_hidden": false
        },
        "id": "t9R6gll9KVzz"
      },
      "outputs": [],
      "source": [
        "# direct simulation of the model using roadrunner\n",
        "sim_res = problem.objective.roadrunner_instance.simulate(\n",
        "    times=[0, 2.5, 5, 10, 20, 50]\n",
        ")\n",
        "pprint(sim_res)\n",
        "problem.objective.roadrunner_instance.plot();"
      ]
    },
    {
      "cell_type": "markdown",
      "metadata": {
        "collapsed": false,
        "jupyter": {
          "outputs_hidden": false
        },
        "id": "tFf4TwWkKVz0"
      },
      "source": [
        "For more details on interacting with the roadrunner instance, we refer to the [documentation of libroadrunner](https://libroadrunner.readthedocs.io/en/latest/). However, we point out that while theoretical possible, we **strongly advice against** changing the model in that manner."
      ]
    },
    {
      "cell_type": "code",
      "execution_count": null,
      "metadata": {
        "jupyter": {
          "outputs_hidden": false
        },
        "id": "y6jey6-UKVz0"
      },
      "outputs": [],
      "source": [
        "ret = problem.objective(\n",
        "    petab_problem.get_x_nominal(fixed=False,scaled=True),\n",
        "    mode=\"mode_fun\",\n",
        "    return_dict=True,\n",
        ")\n",
        "pprint(ret)"
      ]
    },
    {
      "cell_type": "markdown",
      "metadata": {
        "collapsed": false,
        "jupyter": {
          "outputs_hidden": false
        },
        "id": "pxwL9_n7KVz0"
      },
      "source": [
        "## Optimization\n",
        "\n",
        "To optimize a problem using a RoadRunner objective, we can set additional solver options for the ODE solver."
      ]
    },
    {
      "cell_type": "code",
      "execution_count": null,
      "metadata": {
        "jupyter": {
          "outputs_hidden": false
        },
        "id": "oyXxFQ8mKVz0"
      },
      "outputs": [],
      "source": [
        "optimizer = optimize.ScipyOptimizer()\n",
        "\n",
        "solver_options = pypesto_rr.SolverOptions(\n",
        "    relative_tolerance = 1e-6,\n",
        "    absolute_tolerance = 1e-12,\n",
        "    maximum_num_steps = 10000\n",
        ")\n",
        "engine = pypesto.engine.SingleCoreEngine()\n",
        "problem.objective.solver_options = solver_options"
      ]
    },
    {
      "cell_type": "code",
      "execution_count": null,
      "metadata": {
        "jupyter": {
          "outputs_hidden": false
        },
        "id": "vE9zjx9WKVz0"
      },
      "outputs": [],
      "source": [
        "result = optimize.minimize(\n",
        "    problem=problem,\n",
        "    optimizer=optimizer,\n",
        "    n_starts=5,  # usually a value >= 100 should be used\n",
        "    engine=engine\n",
        ")\n",
        "display(Markdown(result.summary()))"
      ]
    },
    {
      "cell_type": "markdown",
      "metadata": {
        "collapsed": false,
        "jupyter": {
          "outputs_hidden": false
        },
        "id": "HIS4LZPXKVz0"
      },
      "source": [
        "Disclaimer: Currently there are two main things not yet fully supported with roadrunner objectives. One  is parallelization of the optimization using MultiProcessEngine. The other is explicit gradients of the objective function. While the former will be added in a near future version, we will show a workaround for the latter, until it is implemented."
      ]
    },
    {
      "cell_type": "markdown",
      "metadata": {
        "collapsed": false,
        "jupyter": {
          "outputs_hidden": false
        },
        "id": "Ct5wTB-6KVz0"
      },
      "source": [
        "### Visualization Methods\n",
        "\n",
        "In order to visualize the optimization, there are a few things possible. For a more extensive explanation we refer to the \"getting started\" notebook."
      ]
    },
    {
      "cell_type": "code",
      "execution_count": null,
      "metadata": {
        "jupyter": {
          "outputs_hidden": false
        },
        "id": "rBraZIiOKVz0"
      },
      "outputs": [],
      "source": [
        "visualize.waterfall(result);"
      ]
    },
    {
      "cell_type": "code",
      "execution_count": null,
      "metadata": {
        "jupyter": {
          "outputs_hidden": false
        },
        "id": "nu_CRrjeKVz0"
      },
      "outputs": [],
      "source": [
        "visualize.parameters(result);"
      ]
    },
    {
      "cell_type": "code",
      "execution_count": null,
      "metadata": {
        "jupyter": {
          "outputs_hidden": false
        },
        "id": "2-YKSh2QKVz1"
      },
      "outputs": [],
      "source": [
        "visualize.parameters_correlation_matrix(result);"
      ]
    },
    {
      "cell_type": "markdown",
      "metadata": {
        "collapsed": false,
        "jupyter": {
          "outputs_hidden": false
        },
        "id": "9xy6xBlVKVz1"
      },
      "source": [
        "### Sensitivities via finite differences\n",
        "\n",
        "Some solvers need a way to calculate the sensitivities, which currently RoadRunner Objectives do not suport. For this scenario, we can use the FiniteDifferences objective in pypesto, which wraps a given objective into one, that computes sensitivities via finite differences."
      ]
    },
    {
      "cell_type": "code",
      "execution_count": null,
      "metadata": {
        "jupyter": {
          "outputs_hidden": false
        },
        "id": "19Hs5-AdKVz1"
      },
      "outputs": [],
      "source": [
        "# no support for sensitivities\n",
        "try:\n",
        "    ret = problem.objective(\n",
        "        petab_problem.get_x_nominal(fixed=False,scaled=True),\n",
        "        mode=\"mode_fun\",\n",
        "        return_dict=True,\n",
        "        sensi_orders=(1,),\n",
        "    )\n",
        "    pprint(ret)\n",
        "except ValueError as e:\n",
        "    pprint(e)"
      ]
    },
    {
      "cell_type": "code",
      "execution_count": null,
      "metadata": {
        "jupyter": {
          "outputs_hidden": false
        },
        "id": "rAbs9PHTKVz1"
      },
      "outputs": [],
      "source": [
        "objective_fd = pypesto.objective.FD(problem.objective)\n",
        "# support through finite differences\n",
        "try:\n",
        "    ret = objective_fd(\n",
        "        petab_problem.get_x_nominal(fixed=False,scaled=True),\n",
        "        mode=\"mode_fun\",\n",
        "        return_dict=True,\n",
        "        sensi_orders=(1,),\n",
        "    )\n",
        "    pprint(ret)\n",
        "except ValueError as e:\n",
        "    pprint(e)"
      ]
    }
  ],
  "metadata": {
    "kernelspec": {
      "display_name": "Python 3 (ipykernel)",
      "language": "python",
      "name": "python3"
    },
    "language_info": {
      "codemirror_mode": {
        "name": "ipython",
        "version": 3
      },
      "file_extension": ".py",
      "mimetype": "text/x-python",
      "name": "python",
      "nbconvert_exporter": "python",
      "pygments_lexer": "ipython3",
      "version": "3.10.2"
    },
    "colab": {
      "provenance": []
    }
  },
  "nbformat": 4,
  "nbformat_minor": 0
}